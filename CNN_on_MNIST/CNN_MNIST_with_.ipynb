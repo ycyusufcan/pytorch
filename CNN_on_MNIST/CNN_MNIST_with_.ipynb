{
 "cells": [
  {
   "cell_type": "code",
   "execution_count": 1,
   "metadata": {},
   "outputs": [],
   "source": [
    "import torch\n",
    "import torch.nn as nn\n",
    "import torch.nn.functional as F\n",
    "from torch.utils.data import DataLoader\n",
    "from torchvision import datasets, transforms\n",
    "from torchvision.utils import make_grid\n",
    "\n",
    "import numpy as np\n",
    "import pandas as pd\n",
    "from sklearn.metrics import confusion_matrix\n",
    "import matplotlib.pyplot as plt\n",
    "%matplotlib inline"
   ]
  },
  {
   "cell_type": "code",
   "execution_count": 2,
   "metadata": {},
   "outputs": [],
   "source": [
    "transform = transforms.ToTensor()"
   ]
  },
  {
   "cell_type": "code",
   "execution_count": 3,
   "metadata": {},
   "outputs": [
    {
     "name": "stderr",
     "output_type": "stream",
     "text": [
      "C:\\Users\\gold\\AppData\\Local\\Packages\\PythonSoftwareFoundation.Python.3.9_qbz5n2kfra8p0\\LocalCache\\local-packages\\Python39\\site-packages\\torchvision\\datasets\\mnist.py:498: UserWarning: The given NumPy array is not writeable, and PyTorch does not support non-writeable tensors. This means you can write to the underlying (supposedly non-writeable) NumPy array using the tensor. You may want to copy the array to protect its data or make it writeable before converting it to a tensor. This type of warning will be suppressed for the rest of this program. (Triggered internally at  ..\\torch\\csrc\\utils\\tensor_numpy.cpp:180.)\n",
      "  return torch.from_numpy(parsed.astype(m[2], copy=False)).view(*s)\n"
     ]
    }
   ],
   "source": [
    "train_data = datasets.MNIST(root='../Data', train=True, download=True, transform=transform)"
   ]
  },
  {
   "cell_type": "code",
   "execution_count": 4,
   "metadata": {},
   "outputs": [],
   "source": [
    "test_data = datasets.MNIST(root='../Data', train=False, download=True, transform=transform)"
   ]
  },
  {
   "cell_type": "code",
   "execution_count": 5,
   "metadata": {},
   "outputs": [
    {
     "data": {
      "text/plain": [
       "Dataset MNIST\n",
       "    Number of datapoints: 60000\n",
       "    Root location: ../Data\n",
       "    Split: Train\n",
       "    StandardTransform\n",
       "Transform: ToTensor()"
      ]
     },
     "execution_count": 5,
     "metadata": {},
     "output_type": "execute_result"
    }
   ],
   "source": [
    "train_data"
   ]
  },
  {
   "cell_type": "code",
   "execution_count": 6,
   "metadata": {},
   "outputs": [
    {
     "data": {
      "text/plain": [
       "Dataset MNIST\n",
       "    Number of datapoints: 10000\n",
       "    Root location: ../Data\n",
       "    Split: Test\n",
       "    StandardTransform\n",
       "Transform: ToTensor()"
      ]
     },
     "execution_count": 6,
     "metadata": {},
     "output_type": "execute_result"
    }
   ],
   "source": [
    "test_data"
   ]
  },
  {
   "cell_type": "code",
   "execution_count": 7,
   "metadata": {},
   "outputs": [],
   "source": [
    "train_loader = DataLoader(train_data, batch_size=10, shuffle=True)\n",
    "test_loader = DataLoader(test_data, batch_size=10, shuffle=False)"
   ]
  },
  {
   "cell_type": "code",
   "execution_count": 8,
   "metadata": {},
   "outputs": [],
   "source": [
    "# 1 color channel, 6 filters (output channels), 3*3 kernel,  stride =1 \n",
    "conv1 = nn.Conv2d(1, 6, 3, 1) # -->6 filters--> pooling -->conv2\n",
    "\n",
    "# 6 input filters conv1, 16 filters, 3*3, stride = 1\n",
    "conv2 = nn.Conv2d(6, 16, 3, 1)"
   ]
  },
  {
   "cell_type": "code",
   "execution_count": 9,
   "metadata": {},
   "outputs": [],
   "source": [
    "for i, (X_train, y_train) in enumerate(train_data):\n",
    "    break"
   ]
  },
  {
   "cell_type": "code",
   "execution_count": 10,
   "metadata": {},
   "outputs": [
    {
     "data": {
      "text/plain": [
       "torch.Size([1, 28, 28])"
      ]
     },
     "execution_count": 10,
     "metadata": {},
     "output_type": "execute_result"
    }
   ],
   "source": [
    "X_train.shape  # --> 4D (batch of 1 image)"
   ]
  },
  {
   "cell_type": "code",
   "execution_count": 11,
   "metadata": {},
   "outputs": [],
   "source": [
    "x = X_train.view(1,1,28,28)"
   ]
  },
  {
   "cell_type": "code",
   "execution_count": 12,
   "metadata": {},
   "outputs": [],
   "source": [
    "x = F.relu(conv1(x))"
   ]
  },
  {
   "cell_type": "code",
   "execution_count": 13,
   "metadata": {},
   "outputs": [
    {
     "data": {
      "text/plain": [
       "torch.Size([1, 6, 26, 26])"
      ]
     },
     "execution_count": 13,
     "metadata": {},
     "output_type": "execute_result"
    }
   ],
   "source": [
    "x.shape"
   ]
  },
  {
   "cell_type": "code",
   "execution_count": 14,
   "metadata": {},
   "outputs": [],
   "source": [
    "x = F.max_pool2d(x, 2, 2)"
   ]
  },
  {
   "cell_type": "code",
   "execution_count": 15,
   "metadata": {},
   "outputs": [
    {
     "data": {
      "text/plain": [
       "torch.Size([1, 6, 13, 13])"
      ]
     },
     "execution_count": 15,
     "metadata": {},
     "output_type": "execute_result"
    }
   ],
   "source": [
    "x.shape"
   ]
  },
  {
   "cell_type": "code",
   "execution_count": 16,
   "metadata": {},
   "outputs": [],
   "source": [
    "x = F.relu(conv2(x))"
   ]
  },
  {
   "cell_type": "code",
   "execution_count": 17,
   "metadata": {},
   "outputs": [
    {
     "data": {
      "text/plain": [
       "torch.Size([1, 16, 11, 11])"
      ]
     },
     "execution_count": 17,
     "metadata": {},
     "output_type": "execute_result"
    }
   ],
   "source": [
    "x.shape"
   ]
  },
  {
   "cell_type": "code",
   "execution_count": 18,
   "metadata": {},
   "outputs": [],
   "source": [
    "x = F.max_pool2d(x, 2, 2)"
   ]
  },
  {
   "cell_type": "code",
   "execution_count": 19,
   "metadata": {},
   "outputs": [
    {
     "data": {
      "text/plain": [
       "torch.Size([1, 16, 5, 5])"
      ]
     },
     "execution_count": 19,
     "metadata": {},
     "output_type": "execute_result"
    }
   ],
   "source": [
    "x.shape  \n",
    "\n",
    "# step by step how size processed\n",
    "# 1. 28-2 = 26  --> x = F.relu(conv1(x))\n",
    "# 2. 26/2 = 13  --> x = F.max_pool2d(x, 2, 2)\n",
    "# 3. 13- 2 = 11 --> x = F.relu(conv2(x))\n",
    "# 4. 11/2 = 5.5 --> x = F.max_pool2d(x, 2, 2)"
   ]
  },
  {
   "cell_type": "code",
   "execution_count": 20,
   "metadata": {},
   "outputs": [
    {
     "data": {
      "text/plain": [
       "tensor([[0.1384, 0.1271, 0.1218, 0.1055, 0.1413, 0.1380, 0.1064, 0.0363, 0.1735,\n",
       "         0.2244, 0.1374, 0.1274, 0.1497, 0.1790, 0.1767, 0.1379, 0.1374, 0.1081,\n",
       "         0.1123, 0.1427, 0.1366, 0.1024, 0.0550, 0.2194, 0.1920, 0.0627, 0.0834,\n",
       "         0.1120, 0.0858, 0.1037, 0.0605, 0.0152, 0.0000, 0.0310, 0.0762, 0.0576,\n",
       "         0.0453, 0.0322, 0.1362, 0.1063, 0.0576, 0.0749, 0.0943, 0.0059, 0.0982,\n",
       "         0.0801, 0.1121, 0.0392, 0.0737, 0.0625, 0.1809, 0.1818, 0.1845, 0.1779,\n",
       "         0.2634, 0.2229, 0.2769, 0.1648, 0.2454, 0.3131, 0.2110, 0.2231, 0.2505,\n",
       "         0.1855, 0.2012, 0.1805, 0.2120, 0.2450, 0.1848, 0.2528, 0.1792, 0.1710,\n",
       "         0.2220, 0.2297, 0.2261, 0.1898, 0.1850, 0.1875, 0.1776, 0.1775, 0.1879,\n",
       "         0.1314, 0.1316, 0.1591, 0.2249, 0.1881, 0.1863, 0.1606, 0.2674, 0.2212,\n",
       "         0.1881, 0.1881, 0.1357, 0.1619, 0.2182, 0.1975, 0.1818, 0.1266, 0.2037,\n",
       "         0.1867, 0.1134, 0.0923, 0.0950, 0.1878, 0.2111, 0.1570, 0.3012, 0.3012,\n",
       "         0.2648, 0.2583, 0.1424, 0.2847, 0.2860, 0.1411, 0.1038, 0.1026, 0.1448,\n",
       "         0.3130, 0.2307, 0.1752, 0.1019, 0.1259, 0.2734, 0.2875, 0.1616, 0.0000,\n",
       "         0.0046, 0.0483, 0.0000, 0.0275, 0.0000, 0.0000, 0.0384, 0.0069, 0.0091,\n",
       "         0.0000, 0.0000, 0.1909, 0.1181, 0.0000, 0.0000, 0.0000, 0.0000, 0.1311,\n",
       "         0.0622, 0.0284, 0.0499, 0.0000, 0.0000, 0.0000, 0.0000, 0.0000, 0.0266,\n",
       "         0.0176, 0.0000, 0.0000, 0.0000, 0.0131, 0.0000, 0.0000, 0.0000, 0.0000,\n",
       "         0.0476, 0.0323, 0.0000, 0.0000, 0.0000, 0.0000, 0.0688, 0.0000, 0.0000,\n",
       "         0.0000, 0.0000, 0.0000, 0.0230, 0.1434, 0.1454, 0.1636, 0.1490, 0.1224,\n",
       "         0.1421, 0.1669, 0.1320, 0.1745, 0.2250, 0.1408, 0.1567, 0.1116, 0.2835,\n",
       "         0.2033, 0.1417, 0.1435, 0.2871, 0.1247, 0.1523, 0.1445, 0.1155, 0.0491,\n",
       "         0.1395, 0.1914, 0.0442, 0.0332, 0.0259, 0.0000, 0.0000, 0.0426, 0.0000,\n",
       "         0.0000, 0.0000, 0.0591, 0.0419, 0.0382, 0.0000, 0.0361, 0.0398, 0.0419,\n",
       "         0.0419, 0.0117, 0.0000, 0.0138, 0.0385, 0.0097, 0.0000, 0.0000, 0.0716,\n",
       "         0.0000, 0.0000, 0.0000, 0.0000, 0.0000, 0.0000, 0.0000, 0.0000, 0.0000,\n",
       "         0.0000, 0.0000, 0.0000, 0.0000, 0.0000, 0.0000, 0.0000, 0.0000, 0.0000,\n",
       "         0.0000, 0.0000, 0.0000, 0.0000, 0.0000, 0.0000, 0.0000, 0.0523, 0.0866,\n",
       "         0.0665, 0.0717, 0.1037, 0.0443, 0.0562, 0.1448, 0.1521, 0.1491, 0.0439,\n",
       "         0.0341, 0.1829, 0.1938, 0.0405, 0.0450, 0.0555, 0.0348, 0.1709, 0.1364,\n",
       "         0.0598, 0.0528, 0.0303, 0.2098, 0.1205, 0.1307, 0.1883, 0.1499, 0.1906,\n",
       "         0.3573, 0.1348, 0.2437, 0.3712, 0.3274, 0.2735, 0.1572, 0.1381, 0.3857,\n",
       "         0.3440, 0.1570, 0.1301, 0.1449, 0.1176, 0.3179, 0.3019, 0.2069, 0.1534,\n",
       "         0.2828, 0.3396, 0.2327, 0.0000, 0.0000, 0.0000, 0.0000, 0.0000, 0.0000,\n",
       "         0.0000, 0.0000, 0.0000, 0.0000, 0.0000, 0.0000, 0.0000, 0.0000, 0.0000,\n",
       "         0.0000, 0.0000, 0.0000, 0.0000, 0.0000, 0.0000, 0.0000, 0.0000, 0.0000,\n",
       "         0.0000, 0.1210, 0.1084, 0.1026, 0.1639, 0.1735, 0.1178, 0.1158, 0.1701,\n",
       "         0.1910, 0.2008, 0.1157, 0.1240, 0.2133, 0.2367, 0.1895, 0.1169, 0.1166,\n",
       "         0.2009, 0.2464, 0.1936, 0.1218, 0.1023, 0.0598, 0.1722, 0.1764, 0.0000,\n",
       "         0.0000, 0.0000, 0.0000, 0.0000, 0.0000, 0.1216, 0.2091, 0.0896, 0.0720,\n",
       "         0.0000, 0.0326, 0.1784, 0.0315, 0.0000, 0.0000, 0.0000, 0.0506, 0.1242,\n",
       "         0.0000, 0.0000, 0.0000, 0.0283, 0.1125, 0.0000, 0.0000, 0.0000, 0.0000,\n",
       "         0.0000, 0.0000, 0.0000, 0.0000, 0.0000, 0.0000, 0.0216, 0.0000, 0.0000,\n",
       "         0.0000, 0.0165, 0.0026, 0.0000, 0.0000, 0.0000, 0.0000, 0.0065, 0.0000,\n",
       "         0.0000, 0.0000, 0.0266, 0.0171]], grad_fn=<ViewBackward>)"
      ]
     },
     "execution_count": 20,
     "metadata": {},
     "output_type": "execute_result"
    }
   ],
   "source": [
    "x.view(-1, 16*5*5)"
   ]
  },
  {
   "cell_type": "code",
   "execution_count": 21,
   "metadata": {},
   "outputs": [
    {
     "data": {
      "text/plain": [
       "torch.Size([1, 400])"
      ]
     },
     "execution_count": 21,
     "metadata": {},
     "output_type": "execute_result"
    }
   ],
   "source": [
    "x.view(-1, 16*5*5).shape"
   ]
  },
  {
   "cell_type": "code",
   "execution_count": 22,
   "metadata": {},
   "outputs": [],
   "source": [
    "class CNN(nn.Module):\n",
    "    \n",
    "    def __init__(self):\n",
    "        \n",
    "        super().__init__()\n",
    "        self.conv1 = nn.Conv2d(1,6,3,1)\n",
    "        self.conv2 = nn.Conv2d(6,16,3,1)\n",
    "        self.fc1 = nn.Linear(5*5*16,120)\n",
    "        self.fc2 = nn.Linear(120,84)\n",
    "        self.fc3 = nn.Linear(84,10)\n",
    "        \n",
    "    def forward(self, X):\n",
    "        X = F.relu(self.conv1(X))\n",
    "        X = F.max_pool2d(X, 2, 2)\n",
    "        X = F.relu(self.conv2(X))\n",
    "        X = F.max_pool2d(X, 2, 2)\n",
    "        X = X.view(-1, 16*5*5)\n",
    "        X = F.relu(self.fc1(X))\n",
    "        X = F.relu(self.fc2(X))\n",
    "        X = self.fc3(X)\n",
    "        return F.log_softmax(X, dim=1)"
   ]
  },
  {
   "cell_type": "code",
   "execution_count": 24,
   "metadata": {},
   "outputs": [
    {
     "data": {
      "text/plain": [
       "CNN(\n",
       "  (conv1): Conv2d(1, 6, kernel_size=(3, 3), stride=(1, 1))\n",
       "  (conv2): Conv2d(6, 16, kernel_size=(3, 3), stride=(1, 1))\n",
       "  (fc1): Linear(in_features=400, out_features=120, bias=True)\n",
       "  (fc2): Linear(in_features=120, out_features=84, bias=True)\n",
       "  (fc3): Linear(in_features=84, out_features=10, bias=True)\n",
       ")"
      ]
     },
     "execution_count": 24,
     "metadata": {},
     "output_type": "execute_result"
    }
   ],
   "source": [
    "torch.manual_seed(42)\n",
    "model = CNN()\n",
    "model"
   ]
  },
  {
   "cell_type": "code",
   "execution_count": 25,
   "metadata": {},
   "outputs": [
    {
     "name": "stdout",
     "output_type": "stream",
     "text": [
      "54\n",
      "6\n",
      "864\n",
      "16\n",
      "48000\n",
      "120\n",
      "10080\n",
      "84\n",
      "840\n",
      "10\n"
     ]
    }
   ],
   "source": [
    "for param in model.parameters():\n",
    "    print(param.numel())"
   ]
  },
  {
   "cell_type": "code",
   "execution_count": 26,
   "metadata": {},
   "outputs": [],
   "source": [
    "def count_parameters(model):\n",
    "    params = [p.numel() for p in model.parameters() if p.requires_grad]\n",
    "    for item in params:\n",
    "        print(f'{item:>6}')\n",
    "    print(f'______\\n{sum(params):>6}')"
   ]
  },
  {
   "cell_type": "code",
   "execution_count": 27,
   "metadata": {},
   "outputs": [
    {
     "name": "stdout",
     "output_type": "stream",
     "text": [
      "    54\n",
      "     6\n",
      "   864\n",
      "    16\n",
      " 48000\n",
      "   120\n",
      " 10080\n",
      "    84\n",
      "   840\n",
      "    10\n",
      "______\n",
      " 60074\n"
     ]
    }
   ],
   "source": [
    "count_parameters(model)"
   ]
  },
  {
   "cell_type": "code",
   "execution_count": 28,
   "metadata": {},
   "outputs": [],
   "source": [
    "criterion = nn.CrossEntropyLoss()\n",
    "optimizer = torch.optim.Adam(model.parameters(), lr = 0.001)"
   ]
  },
  {
   "cell_type": "code",
   "execution_count": 47,
   "metadata": {},
   "outputs": [
    {
     "name": "stdout",
     "output_type": "stream",
     "text": [
      "epoch:  0  batch:  600 [  6000/60000]  loss: 0.00274154  accuracy:   2.900%\n",
      "epoch:  0  batch: 1200 [ 12000/60000]  loss: 0.00037255  accuracy:   3.067%\n",
      "epoch:  0  batch: 1800 [ 18000/60000]  loss: 0.00567633  accuracy:   3.394%\n",
      "epoch:  0  batch: 2400 [ 24000/60000]  loss: 0.00189139  accuracy:   3.350%\n",
      "epoch:  0  batch: 3000 [ 30000/60000]  loss: 0.00013563  accuracy:   3.140%\n",
      "epoch:  0  batch: 3600 [ 36000/60000]  loss: 0.00000058  accuracy:   3.278%\n",
      "epoch:  0  batch: 4200 [ 42000/60000]  loss: 0.00470297  accuracy:   3.352%\n",
      "epoch:  0  batch: 4800 [ 48000/60000]  loss: 0.00164590  accuracy:   3.285%\n",
      "epoch:  0  batch: 5400 [ 54000/60000]  loss: 0.00029647  accuracy:   3.289%\n",
      "epoch:  0  batch: 6000 [ 60000/60000]  loss: 0.00003987  accuracy:   3.290%\n",
      "epoch:  1  batch:  600 [  6000/60000]  loss: 0.00008058  accuracy:   4.033%\n",
      "epoch:  1  batch: 1200 [ 12000/60000]  loss: 0.00000162  accuracy:   4.350%\n",
      "epoch:  1  batch: 1800 [ 18000/60000]  loss: 0.00149409  accuracy:   4.244%\n",
      "epoch:  1  batch: 2400 [ 24000/60000]  loss: 0.03777258  accuracy:   4.204%\n",
      "epoch:  1  batch: 3000 [ 30000/60000]  loss: 0.00000567  accuracy:   4.133%\n",
      "epoch:  1  batch: 3600 [ 36000/60000]  loss: 0.00536739  accuracy:   4.136%\n",
      "epoch:  1  batch: 4200 [ 42000/60000]  loss: 0.00562923  accuracy:   4.160%\n",
      "epoch:  1  batch: 4800 [ 48000/60000]  loss: 0.00204948  accuracy:   4.290%\n",
      "epoch:  1  batch: 5400 [ 54000/60000]  loss: 0.00139308  accuracy:   4.313%\n",
      "epoch:  1  batch: 6000 [ 60000/60000]  loss: 0.00096335  accuracy:   4.358%\n",
      "epoch:  2  batch:  600 [  6000/60000]  loss: 0.00000831  accuracy:   4.800%\n",
      "epoch:  2  batch: 1200 [ 12000/60000]  loss: 0.03365861  accuracy:   5.275%\n",
      "epoch:  2  batch: 1800 [ 18000/60000]  loss: 0.00003178  accuracy:   5.094%\n",
      "epoch:  2  batch: 2400 [ 24000/60000]  loss: 0.55272621  accuracy:   5.217%\n",
      "epoch:  2  batch: 3000 [ 30000/60000]  loss: 0.00152677  accuracy:   5.177%\n",
      "epoch:  2  batch: 3600 [ 36000/60000]  loss: 0.00001172  accuracy:   5.089%\n",
      "epoch:  2  batch: 4200 [ 42000/60000]  loss: 0.16780932  accuracy:   5.171%\n",
      "epoch:  2  batch: 4800 [ 48000/60000]  loss: 0.00040174  accuracy:   5.162%\n",
      "epoch:  2  batch: 5400 [ 54000/60000]  loss: 0.00001485  accuracy:   5.131%\n",
      "epoch:  2  batch: 6000 [ 60000/60000]  loss: 0.00000536  accuracy:   5.112%\n",
      "epoch:  3  batch:  600 [  6000/60000]  loss: 0.00001627  accuracy:   4.367%\n",
      "epoch:  3  batch: 1200 [ 12000/60000]  loss: 0.44789138  accuracy:   4.908%\n",
      "epoch:  3  batch: 1800 [ 18000/60000]  loss: 0.00008689  accuracy:   5.094%\n",
      "epoch:  3  batch: 2400 [ 24000/60000]  loss: 0.00068080  accuracy:   5.133%\n",
      "epoch:  3  batch: 3000 [ 30000/60000]  loss: 0.00200342  accuracy:   5.033%\n",
      "epoch:  3  batch: 3600 [ 36000/60000]  loss: 0.00988623  accuracy:   5.022%\n",
      "epoch:  3  batch: 4200 [ 42000/60000]  loss: 0.02536761  accuracy:   5.038%\n",
      "epoch:  3  batch: 4800 [ 48000/60000]  loss: 0.00000567  accuracy:   5.000%\n",
      "epoch:  3  batch: 5400 [ 54000/60000]  loss: 0.02009678  accuracy:   5.107%\n",
      "epoch:  3  batch: 6000 [ 60000/60000]  loss: 0.00000074  accuracy:   5.135%\n",
      "epoch:  4  batch:  600 [  6000/60000]  loss: 0.00182221  accuracy:   5.300%\n",
      "epoch:  4  batch: 1200 [ 12000/60000]  loss: 0.01798356  accuracy:   5.808%\n",
      "epoch:  4  batch: 1800 [ 18000/60000]  loss: 0.00223527  accuracy:   5.906%\n",
      "epoch:  4  batch: 2400 [ 24000/60000]  loss: 0.00000064  accuracy:   6.083%\n",
      "epoch:  4  batch: 3000 [ 30000/60000]  loss: 0.00015698  accuracy:   6.010%\n",
      "epoch:  4  batch: 3600 [ 36000/60000]  loss: 0.00021009  accuracy:   6.131%\n",
      "epoch:  4  batch: 4200 [ 42000/60000]  loss: 0.00045600  accuracy:   6.152%\n",
      "epoch:  4  batch: 4800 [ 48000/60000]  loss: 0.00042209  accuracy:   6.283%\n",
      "epoch:  4  batch: 5400 [ 54000/60000]  loss: 0.00066381  accuracy:   6.198%\n",
      "epoch:  4  batch: 6000 [ 60000/60000]  loss: 0.00012286  accuracy:   6.165%\n",
      "Traning took 5.275561177730561 minutes\n"
     ]
    }
   ],
   "source": [
    "import time\n",
    "start = time.time()\n",
    "\n",
    "# Variables (trackers)\n",
    "epochs = 5\n",
    "train_losses = []\n",
    "test_losses = []\n",
    "train_correct = []\n",
    "test_correct = []\n",
    "\n",
    "# for loop epochs\n",
    "for i in range(epochs):\n",
    "    trn_corr = 0\n",
    "    tst_corr = 0\n",
    "\n",
    "    #train  # Run the training batches\n",
    "    for b, (X_train, y_train) in enumerate(train_loader):\n",
    "        b += 1\n",
    "        \n",
    "        # Apply the model\n",
    "        y_pred = model(X_train)    # we don't flatten X-train here  2D but not needed to flatten\n",
    "        loss = criterion(y_pred, y_train)\n",
    "        \n",
    "        # Tally the number of correct predictions\n",
    "        predicted = torch.max(y_pred.data, 1)[1]\n",
    "        batch_corr = (predicted == y_pred).sum()  # true 1, false 0 sum()\n",
    "        trn_corr += batch_corr\n",
    "        \n",
    "        # Update parameters\n",
    "        optimizer.zero_grad()\n",
    "        loss.backward()\n",
    "        optimizer.step()\n",
    "        \n",
    "        # Print interim results\n",
    "        if b%600 == 0:\n",
    "            print(f'epoch: {i:2}  batch: {b:4} [{10*b:6}/60000]  loss: {loss.item():10.8f}  \\\n",
    "accuracy: {trn_corr.item()*100/(10*b):7.3f}%')\n",
    "    \n",
    "    train_losses.append(loss.item())\n",
    "    train_correct.append(trn_corr.item())\n",
    "    \n",
    "    # test  # Run the testing batches\n",
    "    with torch.no_grad():\n",
    "        for b, (X_test, y_test) in enumerate(test_loader):\n",
    "            \n",
    "            # Apply the model\n",
    "            y_val= model(X_test)\n",
    "            \n",
    "            # Tally the number of correct predictions\n",
    "            predicted = torch.max(y_val.data, 1)[1]\n",
    "            tst_corr += (predicted == y_test).sum()\n",
    "            \n",
    "    loss = criterion(y_val, y_test)\n",
    "    test_losses.append(loss)\n",
    "    test_correct.append(tst_corr)\n",
    "    \n",
    "current = time.time()\n",
    "total = current - start\n",
    "print(f\"Traning took {total/60} minutes\")"
   ]
  },
  {
   "cell_type": "code",
   "execution_count": 48,
   "metadata": {},
   "outputs": [
    {
     "data": {
      "text/plain": [
       "[tensor(1.0347e-05),\n",
       " tensor(7.2718e-07),\n",
       " tensor(2.5391e-06),\n",
       " tensor(3.8147e-07),\n",
       " tensor(6.1989e-07)]"
      ]
     },
     "execution_count": 48,
     "metadata": {},
     "output_type": "execute_result"
    }
   ],
   "source": [
    "test_losses"
   ]
  },
  {
   "cell_type": "code",
   "execution_count": 49,
   "metadata": {},
   "outputs": [
    {
     "data": {
      "text/plain": [
       "[3.987209129263647e-05,\n",
       " 0.0009633504087105393,\n",
       " 5.364367552829208e-06,\n",
       " 7.390957534880727e-07,\n",
       " 0.00012285925913602114]"
      ]
     },
     "execution_count": 49,
     "metadata": {},
     "output_type": "execute_result"
    }
   ],
   "source": [
    "train_losses"
   ]
  },
  {
   "cell_type": "markdown",
   "metadata": {},
   "source": [
    "## Plot the loss and accuracy comparisons"
   ]
  },
  {
   "cell_type": "code",
   "execution_count": 50,
   "metadata": {},
   "outputs": [
    {
     "data": {
      "text/plain": [
       "<matplotlib.legend.Legend at 0x24c2c5469d0>"
      ]
     },
     "execution_count": 50,
     "metadata": {},
     "output_type": "execute_result"
    },
    {
     "data": {
      "image/png": "[encoded data removed]",
      "text/plain": [
       "<Figure size 432x288 with 1 Axes>"
      ]
     },
     "metadata": {
      "needs_background": "light"
     },
     "output_type": "display_data"
    }
   ],
   "source": [
    "plt.plot(train_losses, label='training loss')\n",
    "plt.plot(test_losses, label='validation loss')\n",
    "plt.title('Loss at the end of each epoch')\n",
    "plt.legend()"
   ]
  },
  {
   "cell_type": "code",
   "execution_count": 51,
   "metadata": {},
   "outputs": [
    {
     "data": {
      "image/png": "[encoded data removed]",
      "text/plain": [
       "<Figure size 432x288 with 1 Axes>"
      ]
     },
     "metadata": {
      "needs_background": "light"
     },
     "output_type": "display_data"
    }
   ],
   "source": [
    "plt.plot([t/600 for t in train_correct], label='training accuracy')\n",
    "plt.plot([t/100 for t in test_correct], label='validation accuracy')\n",
    "plt.title('Accuracy at the end of each epoch')\n",
    "plt.legend();"
   ]
  },
  {
   "cell_type": "markdown",
   "metadata": {},
   "source": [
    "## Evaluate Test Data"
   ]
  },
  {
   "cell_type": "code",
   "execution_count": 52,
   "metadata": {},
   "outputs": [],
   "source": [
    "# Extract the data all at once, not in batches\n",
    "test_load_all = DataLoader(test_data, batch_size=10000, shuffle=False)"
   ]
  },
  {
   "cell_type": "code",
   "execution_count": 53,
   "metadata": {},
   "outputs": [
    {
     "name": "stdout",
     "output_type": "stream",
     "text": [
      "Test accuracy: 9897/10000 =  98.970%\n"
     ]
    }
   ],
   "source": [
    "with torch.no_grad():\n",
    "    correct = 0\n",
    "    for X_test, y_test in test_load_all:\n",
    "        y_val = model(X_test)  # we don't flatten the data this time\n",
    "        predicted = torch.max(y_val,1)[1]\n",
    "        correct += (predicted == y_test).sum()\n",
    "print(f'Test accuracy: {correct.item()}/{len(test_data)} = {correct.item()*100/(len(test_data)):7.3f}%')"
   ]
  },
  {
   "cell_type": "code",
   "execution_count": 56,
   "metadata": {},
   "outputs": [
    {
     "data": {
      "text/plain": [
       "5"
      ]
     },
     "execution_count": 56,
     "metadata": {},
     "output_type": "execute_result"
    }
   ],
   "source": [
    "test_data[2021][1]   #label"
   ]
  },
  {
   "cell_type": "code",
   "execution_count": 58,
   "metadata": {},
   "outputs": [
    {
     "data": {
      "text/plain": [
       "<matplotlib.image.AxesImage at 0x24c28a93dc0>"
      ]
     },
     "execution_count": 58,
     "metadata": {},
     "output_type": "execute_result"
    },
    {
     "data": {
      "image/png": "[encoded data removed]",
      "text/plain": [
       "<Figure size 432x288 with 1 Axes>"
      ]
     },
     "metadata": {
      "needs_background": "light"
     },
     "output_type": "display_data"
    }
   ],
   "source": [
    "plt.imshow(test_data[2021][0].reshape(28,28))"
   ]
  },
  {
   "cell_type": "code",
   "execution_count": 60,
   "metadata": {},
   "outputs": [],
   "source": [
    "model.eval()\n",
    "with torch.no_grad():\n",
    "    new_pred = model(test_data[2021][0].view(1,1,28,28))"
   ]
  },
  {
   "cell_type": "code",
   "execution_count": 61,
   "metadata": {},
   "outputs": [
    {
     "data": {
      "text/plain": [
       "tensor([[-31.2284, -39.8536, -47.3618, -23.9512, -42.3345,   0.0000, -32.1477,\n",
       "         -43.7708, -33.2068, -28.7240]])"
      ]
     },
     "execution_count": 61,
     "metadata": {},
     "output_type": "execute_result"
    }
   ],
   "source": [
    "new_pred"
   ]
  },
  {
   "cell_type": "code",
   "execution_count": 62,
   "metadata": {},
   "outputs": [
    {
     "data": {
      "text/plain": [
       "tensor(5)"
      ]
     },
     "execution_count": 62,
     "metadata": {},
     "output_type": "execute_result"
    }
   ],
   "source": [
    "new_pred.argmax()"
   ]
  },
  {
   "cell_type": "code",
   "execution_count": 64,
   "metadata": {},
   "outputs": [
    {
     "data": {
      "text/plain": [
       "<matplotlib.image.AxesImage at 0x24c28bc98b0>"
      ]
     },
     "execution_count": 64,
     "metadata": {},
     "output_type": "execute_result"
    },
    {
     "data": {
      "image/png": "[encoded data removed]",
      "text/plain": [
       "<Figure size 432x288 with 1 Axes>"
      ]
     },
     "metadata": {
      "needs_background": "light"
     },
     "output_type": "display_data"
    }
   ],
   "source": [
    "plt.imshow(test_data[1992][0].reshape(28,28))"
   ]
  },
  {
   "cell_type": "code",
   "execution_count": 65,
   "metadata": {},
   "outputs": [],
   "source": [
    "model.eval()\n",
    "with torch.no_grad():\n",
    "    new_pred = model(test_data[1992][0].view(1,1,28,28))"
   ]
  },
  {
   "cell_type": "code",
   "execution_count": 66,
   "metadata": {},
   "outputs": [
    {
     "data": {
      "text/plain": [
       "tensor(9)"
      ]
     },
     "execution_count": 66,
     "metadata": {},
     "output_type": "execute_result"
    }
   ],
   "source": [
    "new_pred.argmax()"
   ]
  },
  {
   "cell_type": "markdown",
   "metadata": {},
   "source": [
    "Recall that our [784,120,84,10] ANN returned an accuracy of 97.25% after 10 epochs. And it used 105,214 parameters to our current 60,074."
   ]
  },
  {
   "cell_type": "markdown",
   "metadata": {},
   "source": [
    "## Display the confusion matrix"
   ]
  },
  {
   "cell_type": "code",
   "execution_count": 67,
   "metadata": {},
   "outputs": [
    {
     "name": "stdout",
     "output_type": "stream",
     "text": [
      "[[   0    1    2    3    4    5    6    7    8    9]]\n",
      "\n",
      "[[ 976    1    4    0    0    1    3    0    2    0]\n",
      " [   0 1130    2    1    0    0    2    2    0    0]\n",
      " [   0    0 1020    0    1    0    1    2    2    0]\n",
      " [   0    1    2 1002    0    3    0    1    3    1]\n",
      " [   0    0    0    0  972    0    1    0    1    2]\n",
      " [   0    2    0    3    0  885    5    0    2    7]\n",
      " [   3    1    0    0    3    1  945    0    0    0]\n",
      " [   1    0    3    1    0    1    0 1016    2    2]\n",
      " [   0    0    1    2    0    1    1    1  957    3]\n",
      " [   0    0    0    1    6    0    0    6    5  994]]\n"
     ]
    }
   ],
   "source": [
    "# print a row of values for reference\n",
    "np.set_printoptions(formatter=dict(int=lambda x: f'{x:4}'))\n",
    "print(np.arange(10).reshape(1,10))\n",
    "print()\n",
    "\n",
    "# print the confusion matrix\n",
    "print(confusion_matrix(predicted.view(-1), y_test.view(-1)))"
   ]
  },
  {
   "cell_type": "markdown",
   "metadata": {},
   "source": [
    "## Examine the misses\n",
    "We can track the index positions of \"missed\" predictions, and extract the corresponding image and label. We'll do this in batches to save screen space."
   ]
  },
  {
   "cell_type": "code",
   "execution_count": 68,
   "metadata": {},
   "outputs": [
    {
     "data": {
      "text/plain": [
       "103"
      ]
     },
     "execution_count": 68,
     "metadata": {},
     "output_type": "execute_result"
    }
   ],
   "source": [
    "misses = np.array([])\n",
    "for i in range(len(predicted.view(-1))):\n",
    "    if predicted[i] != y_test[i]:\n",
    "        misses = np.append(misses,i).astype('int64')\n",
    "        \n",
    "# Display the number of misses\n",
    "len(misses)"
   ]
  },
  {
   "cell_type": "code",
   "execution_count": 69,
   "metadata": {},
   "outputs": [
    {
     "data": {
      "text/plain": [
       "array([  18,   62,  247,  320,  445,  582,  659,  938,  947, 1014],\n",
       "      dtype=int64)"
      ]
     },
     "execution_count": 69,
     "metadata": {},
     "output_type": "execute_result"
    }
   ],
   "source": [
    "# Display the first 10 index positions\n",
    "misses[:10]"
   ]
  },
  {
   "cell_type": "code",
   "execution_count": 70,
   "metadata": {},
   "outputs": [],
   "source": [
    "# Set up an iterator to feed batched rows\n",
    "r = 12   # row size\n",
    "row = iter(np.array_split(misses,len(misses)//r+1))"
   ]
  },
  {
   "cell_type": "markdown",
   "metadata": {},
   "source": [
    "Now that everything is set up, run and re-run the cell below to view all of the missed predictions.<br>\n",
    "Use <kbd>Ctrl+Enter</kbd> to remain on the cell between runs. You'll see a <tt>StopIteration</tt> once all the misses have been seen."
   ]
  },
  {
   "cell_type": "code",
   "execution_count": 77,
   "metadata": {},
   "outputs": [
    {
     "name": "stdout",
     "output_type": "stream",
     "text": [
      "Index: [4536 4699 4723 4740 4838 4860 4911 4956 5642 5937 5955]\n",
      "Label: [   6    6    2    3    6    4    4    8    1    5    3]\n",
      "Guess: [   5    1    3    5    5    9    9    4    5    3    8]\n"
     ]
    },
    {
     "data": {
      "image/png": "[encoded data removed]",
      "text/plain": [
       "<Figure size 720x288 with 1 Axes>"
      ]
     },
     "metadata": {
      "needs_background": "light"
     },
     "output_type": "display_data"
    }
   ],
   "source": [
    "nextrow = next(row)\n",
    "print(\"Index:\", nextrow)\n",
    "print(\"Label:\", y_test.index_select(0,torch.tensor(nextrow)).numpy())\n",
    "print(\"Guess:\", predicted.index_select(0,torch.tensor(nextrow)).numpy())\n",
    "\n",
    "images = X_test.index_select(0,torch.tensor(nextrow))\n",
    "im = make_grid(images, nrow=r)\n",
    "plt.figure(figsize=(10,4))\n",
    "plt.imshow(np.transpose(im.numpy(), (1, 2, 0)));"
   ]
  },
  {
   "cell_type": "markdown",
   "metadata": {},
   "source": [
    "## Run a new image through the model\n",
    "We can also pass a single image through the model to obtain a prediction.\n",
    "Pick a number from 0 to 9999, assign it to \"x\", and we'll use that value to select a number from the MNIST test set."
   ]
  },
  {
   "cell_type": "code",
   "execution_count": 80,
   "metadata": {},
   "outputs": [
    {
     "data": {
      "image/png": "[encoded data removed]",
      "text/plain": [
       "<Figure size 72x72 with 1 Axes>"
      ]
     },
     "metadata": {
      "needs_background": "light"
     },
     "output_type": "display_data"
    }
   ],
   "source": [
    "x = 1990\n",
    "plt.figure(figsize=(1,1))\n",
    "plt.imshow(test_data[x][0].reshape((28,28)), cmap=\"gist_yarg\");"
   ]
  },
  {
   "cell_type": "code",
   "execution_count": 81,
   "metadata": {},
   "outputs": [
    {
     "name": "stdout",
     "output_type": "stream",
     "text": [
      "Predicted value: 6\n"
     ]
    }
   ],
   "source": [
    "model.eval()\n",
    "with torch.no_grad():\n",
    "    new_pred = model(test_data[x][0].view(1,1,28,28)).argmax()\n",
    "print(\"Predicted value:\",new_pred.item())"
   ]
  },
  {
   "cell_type": "code",
   "execution_count": null,
   "metadata": {},
   "outputs": [],
   "source": []
  }
 ],
 "metadata": {
  "kernelspec": {
   "display_name": "pytorchenv",
   "language": "python",
   "name": "pytorchenv"
  },
  "language_info": {
   "codemirror_mode": {
    "name": "ipython",
    "version": 3
   },
   "file_extension": ".py",
   "mimetype": "text/x-python",
   "name": "python",
   "nbconvert_exporter": "python",
   "pygments_lexer": "ipython3",
   "version": "3.9.9"
  }
 },
 "nbformat": 4,
 "nbformat_minor": 2
}
